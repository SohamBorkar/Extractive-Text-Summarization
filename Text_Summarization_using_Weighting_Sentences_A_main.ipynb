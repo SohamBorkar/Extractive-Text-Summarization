{
  "nbformat": 4,
  "nbformat_minor": 0,
  "metadata": {
    "colab": {
      "provenance": []
    },
    "kernelspec": {
      "name": "python3",
      "display_name": "Python 3"
    },
    "language_info": {
      "name": "python"
    }
  },
  "cells": [
    {
      "cell_type": "markdown",
      "source": [
        "# Installation"
      ],
      "metadata": {
        "id": "4HwE71V_Fffw"
      }
    },
    {
      "cell_type": "code",
      "source": [
        "!pip install rouge-score"
      ],
      "metadata": {
        "id": "7OtLgu2wFmvy",
        "colab": {
          "base_uri": "https://localhost:8080/"
        },
        "outputId": "d13a60b4-59e9-4017-fcec-b530d3fec8dc"
      },
      "execution_count": null,
      "outputs": [
        {
          "output_type": "stream",
          "name": "stdout",
          "text": [
            "Collecting rouge-score\n",
            "  Downloading rouge_score-0.1.2.tar.gz (17 kB)\n",
            "  Preparing metadata (setup.py) ... \u001b[?25l\u001b[?25hdone\n",
            "Requirement already satisfied: absl-py in /usr/local/lib/python3.10/dist-packages (from rouge-score) (1.4.0)\n",
            "Requirement already satisfied: nltk in /usr/local/lib/python3.10/dist-packages (from rouge-score) (3.8.1)\n",
            "Requirement already satisfied: numpy in /usr/local/lib/python3.10/dist-packages (from rouge-score) (1.26.4)\n",
            "Requirement already satisfied: six>=1.14.0 in /usr/local/lib/python3.10/dist-packages (from rouge-score) (1.16.0)\n",
            "Requirement already satisfied: click in /usr/local/lib/python3.10/dist-packages (from nltk->rouge-score) (8.1.7)\n",
            "Requirement already satisfied: joblib in /usr/local/lib/python3.10/dist-packages (from nltk->rouge-score) (1.4.2)\n",
            "Requirement already satisfied: regex>=2021.8.3 in /usr/local/lib/python3.10/dist-packages (from nltk->rouge-score) (2024.9.11)\n",
            "Requirement already satisfied: tqdm in /usr/local/lib/python3.10/dist-packages (from nltk->rouge-score) (4.66.5)\n",
            "Building wheels for collected packages: rouge-score\n",
            "  Building wheel for rouge-score (setup.py) ... \u001b[?25l\u001b[?25hdone\n",
            "  Created wheel for rouge-score: filename=rouge_score-0.1.2-py3-none-any.whl size=24935 sha256=648e1c7c91bb737d35154b0c9af6f04addda921cd11ff9688a69ef3d91bdae68\n",
            "  Stored in directory: /root/.cache/pip/wheels/5f/dd/89/461065a73be61a532ff8599a28e9beef17985c9e9c31e541b4\n",
            "Successfully built rouge-score\n",
            "Installing collected packages: rouge-score\n",
            "Successfully installed rouge-score-0.1.2\n"
          ]
        }
      ]
    },
    {
      "cell_type": "markdown",
      "source": [
        "# Imports"
      ],
      "metadata": {
        "id": "A815GUBBFqsl"
      }
    },
    {
      "cell_type": "code",
      "source": [
        "import spacy\n",
        "from spacy.lang.en.stop_words import STOP_WORDS\n",
        "from string import punctuation\n",
        "\n",
        "from collections import Counter\n",
        "\n",
        "import pandas as pd\n",
        "\n",
        "import math\n",
        "\n",
        "import nltk\n",
        "from nltk.translate.bleu_score import sentence_bleu, SmoothingFunction\n",
        "\n",
        "from rouge_score import rouge_scorer\n",
        "\n",
        "from heapq import nlargest\n",
        "\n",
        "from sklearn.feature_extraction.text import TfidfVectorizer\n",
        "\n",
        "from sklearn.metrics.pairwise import cosine_similarity"
      ],
      "metadata": {
        "id": "wp8sKqO1Z1u4"
      },
      "execution_count": null,
      "outputs": []
    },
    {
      "cell_type": "markdown",
      "source": [
        "# Text Definition"
      ],
      "metadata": {
        "id": "XzS287AcHOIQ"
      }
    },
    {
      "cell_type": "code",
      "execution_count": null,
      "metadata": {
        "id": "sMb6h__yBM91"
      },
      "outputs": [],
      "source": [
        "# text = \"\"\"Hello, well my name is Krishna, and welcome to my YouTube channel! Today, we are going to understand a very important technique called entropy while constructing the decision tree. We will also understand why the same trope is very, very important. So let me just consider an example. As you know, that decision tree basically means that we'll be constructing this kind of tree based on the attributes, right? Finally, you will see that after constructing this tree, this will basically be your leaf nodes, you know, final class labels in short. Now, let me just give an example. Suppose I have features F1, F2, F3, and based on this feature, I have a dependent feature which is like the output, and the type of output is binary classification. So the output will be either \"yes\" or \"no.\" Okay, now while constructing the decision tree, there is a concept or an algorithm called the ID3 algorithm. The ID3 algorithm basically says that the first step is to select the right attribute for the splitting of the decision tree, which is the first feature that I should consider as a node. So in order to consider which features should I use for splitting the nodes, that basically means that you have to use this entropy technique. Because remember, guys, suppose I am considering this F1 node right now. Based on the categories inside my iPhone, which is my feature, I will be splitting these nodes, and then after this, I may select the F2 node, then I may select the F3 node over here. Right, so we should understand how to select the right attribute for the splitting purpose because if I select it in the right way, I may get the leaf node very quickly. Otherwise, if I don't select this, then my division of the tree may go much deeper, you know, and take much time. So, in order to see that, to select the best attribute of the node, I mean the best attribute in the case of the feature, which basically applies something called entropy. Now, entropy helps us to measure the purity of the split. Now, understand this. Suppose I selected at one, initially I had nine \"yes\" and five \"no.\" This is basically my output class labels. So, I am basically saying that nine records say \"yes,\" and the remaining five records had \"no\" as their output. Okay, but after I selected F2, I got somewhere around three \"yes\" and two \"no.\" In this case, suppose I got somewhere around six \"yes\" and three \"no.\" Now you can see over here, this is not a pure split because it basically means that either you should be getting \"yes\" or you should be getting \"no.\" Okay, so again, what I did is that based on this F2, I took it and I started splitting more. Suppose in this case, I got three \"yes\" and zero \"no\" as my output, and here I got zero \"no\" and zero \"yes.\" Sorry, \"no\" and zero \"yes.\" Now here you can see I have got a pure split in this particular case. Whenever my branch happens to this particular path, at that time, I am also going to get always output as \"yes.\" This is basically my leaf node. Similarly, in this case, suppose I get six \"yes\" here and three \"no\" over here, right? This is basically my leaf node. Now, in order to get the leaf node quickly, we should aim in a decision tree that we should be able to get the leaf node quickly. We have to select the right parameters. These parameters will be basically many features in the dataset. Okay, and in order to say this, we need to make sure that the purity of the split is calculated every time in each and every node. So, for that, we use something called entropy. Now, entropy, you can see, mentions the purity of the split, and the formula is simple: probability of positive times the logarithm of base 2 of the probability of positive minus probability of negative times the logarithm of base 2 of the probability of negative. Okay, now what does this P plus and P minus say? It says that positive percentage of positive plus divided by the percentage of negative plus. Okay, this divided is just like I'm seeing that all P negative basically means percentage of negative class. P plus is nothing but the percentage of the positive class. I need to understand that. Now, what is this positive class? Now, just imagine, guys, after this split, I got three \"yes\" and two \"no.\" Right? If I have to calculate the entropy of this particular node, suppose I have selected this particular node. After this, I'm going to decide whether I have to go with F2 or F3 for the first splitting. So, I will go and compute the entropy of both this. In this case, I have three \"yes\" and two \"no,\" and six \"yes\" and three \"no,\" right? So, let me just calculate the entropy of this. Now, entropy over here, I can write it as, understand this one: logarithm of base 2 of P plus, this is nothing but the percentage of positive. You can see that I have three \"yes\" divided by five. Why am I taking five? Because since I have to calculate the percentage, in the denominator, I have to take the whole number of records, right? So it is like three by five, and again I have log base 2 of three by five minus probability of negative, what is probability of negative? Two by five because I have two \"no\" and total number of equals of five log base 2 of two by five. And when I compute it, I may get somewhere around zero point seven-eight bits. And always remember, guys, if you have a complete impure subset, basically means like this: suppose you have a scenario where you have three \"yes\" and three \"no.\" In this scenario, your entropy will always be one. This is the worst split because it is completely pure. You have 50 percent of probability saying \"yes\" and 50 percent of probability saying \"no,\" right? So though it will be basically one bit, and always remember for a pure subset, suppose I have a case wherein I have four \"yes\" and zero \"no.\" For this, if I try to compute it, I will definitely get it as zero bits. So, you should understand that the entropy of the values ranges between 0 to 1. Now what I do is that suppose I want to select F2, F3, first I will go and compute the entropy of this. Okay, if I get the entropy lesser, you know, lesser value compared to this. Suppose this particular entropy is 0.75, and this particular entropy is 0.5. That basically means that this entropy value is much better than that, so I may go ahead and select F2 and start splitting it. Okay, but understand, guys, this I am talking with respect to just one node. Right? But we should also consider after I split below. After I split this, they also require some other attributes to reach the leaf node, and I also have to take the entropy of those values and add it up, you know, do the summation of all those entropy values. So, for that, we have a new concept called information gain. Information gain makes sure that from the top till the end, till the leaf node, it will go and compute what is a very good entropy value, what is the total entropy value, along with some different formula which I will be discussing about information gain in my next session or in my next video. But this particular video is more focused with respect to single nodes and all this. Remember, guys, entropy values range between 0 to 1. Okay, now when I say 0 to 1, it will be looking something like this: this is the zero, this is the one, okay? And entropy value always ranges between these two parameters. So if it is one, that basically means it is a completely impure subset. So, in my next video, I will be explaining about information gain because entropy is just calculated for one node. If you want to calculate the information gain of all the nodes till the leaf node, we basically use information gain. Information gain combines all the entropy together, and I will just show you that formula in my next session because that will also be a very simple formula. And that is what happens in each and every algorithm whenever we are applying a decision tree. Okay, with respect to any dataset that we want, we will go ahead and calculate the entropy and we will try to find out which feature is best for splitting it, and then we get the whole decision tree that is basically created. See you all in the next video. Have a great day! And please do subscribe to the channel if you have not already subscribed and share. I'll meet you all in the next video. To one and all, God bless you!\"\"\""
      ]
    },
    {
      "cell_type": "code",
      "source": [
        "# text = \"\"\"Very limited, you're working together. You're going to be hearing it from every single instructor that you'll cheat. People will tell you that you're hurting your fellow students by cheating. It would be true if this close regretted on a curve but it's nice. I'm grading on a curve is evil because it makes you compete with each other instead of cooperating. So, you are not hurting anybody else by doing well in the class. Another thing that I've heard people say that isn't true is that you are going to harm the reputation of the university of California if you cheat. Now come on. Every three or four years a football player rapes a townie at a fraternity part and that's terrible, but the reputation of the university of California is pretty good. So, that’s why you shouldn't cheat. You guys rate now or constructing the person you're going to be for the rest of your life. Human behavior is mostly a matter of habits people talk as if you make big decisions all the time about what to do, but that's not true almost all the time. You just do what you're in the habit of doing. If you get in the habit of cutting corners this are really in your career, you know, how are you going to make it through the horror of precision classes and then what you are goanna do when you actually get a job and the person next to you isn't doing the same thing you're doing. Okay you're not going to be able look over somebody's shoulder but you are going to be able to find ways to cut corners and I don't want to fly in an Aeroplan that was programmed by somebody who cheated in a class. Okay. So, from work what's the best thing that can come out of cheating. You condemn yourself to a life of doing something you don't know how to do and don't like doing. Okay so I cheat if you do, you're really hurting yourself.\"\"\""
      ],
      "metadata": {
        "id": "ggP_11nZRKmY"
      },
      "execution_count": null,
      "outputs": []
    },
    {
      "cell_type": "code",
      "source": [
        "# text = \"\"\"hello all my name is Kush naak andwelcome to my YouTube channel so guysthree to four years back you know I hadcreated a video uh to make youunderstand the differences between AIversus ml versus DL versus data scienceand uh till now probably that is thevideo and that was a 9 Minutes videowhere I clearly differentiated betweenall these terms right specifically thatyou see over here and right now that isprobably the most highest views video inmy channel uh now as you know from pasttwo years like from 2022 end until nowright generative AI is really the Talkof the Town you know and uh with respectto generative AI if I talk about largelanguage models open source largelanguage models open AI doing s such anamazing word now cloudy 3 is also thereto compete open aai okay these Foundation models arealso called as pre-trained models why wesay it as pre-trained models becausethese are trained in huge amount of datathe entire internet data hugedata it has been trained in huge datathe entire internet data right it may becode it may be multiple things and allrightnow we can use the specific model fordomain specific use cases also domainspecific use cases also and that iswhere a concept something called as finetuning is used right right uh if I talkabout AI Engineers this is very muchimportant if I talk about AI engineersat the end of theday at the end of the day you areactually creating an AI product rightand this product may be integrated withthe software product itself right if Isay Netflix it is a streaming platformmovie streaming platform and if I talkabout AI Engineers you know they aretrying to integrate some amazing modelsyou know which involves fine tuningwhich involves multiple things so thatyou integrate in such a way that it isquite scalable the machine learningengineer task will also come right so I have been trained onthis many number of books huge amount ofdata right now what I being a person ifanybody ask me any questions withrespect to cats I will be able to answerall the questions in my own way rightand obviously the answers will beaccurate because I've already read 100books on the cat so similarly if I talkwith respect to generative AI there aretwo types of models that we specificallylearn one is large language models largeimage models large language model iswith respect to Text data large imagemodel is specifically with respect toimages and videos so here if a text isgiven you can convert that into an imageif a text if a text is given you canconvert that into videos here largelanguage mod right cloudyhas just recently launched cloudy 3 giniis also coming up with German Pro morevariants it is basically coming up sothe main race if I probably talk aboutis to create the best foundation modellater on many companies will be you ableto use this Foundation model in the formof pre-train models or it will also theywill also be able to fine tune with someown custom data set right to solve theirusecases so this was the entire idea aboutgenerative AI again uh this is the videothat I really needed to upload uh okay now what isAI simple artificial intelligence themain aim is tobuildapplications thatcanperform that canperform its owntaskwithout human intervention now this isthe most important definition rightwithout human intervention so it'll beable to perform its entire task withouthuman intervention so let me just talkabout it some of the examples As We Knowuh Netflix right it has a amazing AIrecommendation system recommendationsystem which recommends movies right nowhere human intervention is not requiredto probably provide you some kind ofrecommendation whatever things you usingyou're browsing the movies whatevermovies you are specifically seeing youknow at that point of time this AI modelis actually helping you to provide yougood recommendations so that you canstay for a longer period of timeself-driving car is another example so this is basicallymachine learning it is a subset of AIand the main aim of machine learning isto provide you stats toolstoperform to perform various tasks such asstatistical analysis statisticalanalysisvisualizationvisualizationprediction and forecasting right sothese are some of the examples that I'vehave just written it over here but atthe end of the day what is machinelearning it provides a lot of statstools to proberbly perform the completelife cycle of a data science projectthat is specifically required uh inevery life cycle from data inje toprobably data transformation featureengineering you will be required some ofthe other concepts with respect to mltechniques where this is a veryimportant term specifically if I sayabout that is nothing but stats so Imade you understand this entire thing bywriting in front of you so for moredetails with respect to generative AILang chain now if I talk about Langchain it is a framework right Lang chainis a framework which will be able towork with all the specific models at theend of the day we will be able togenerate RG application raapplication retrieval argumentationquery uh and along with that we'll alsobe able to develop some amazing chatBots that is the main reason right wewhy so these are specificmodels which will help you to generatenew content okay based on whatevercontent it has already been trained onokay if I talk about discriminative AIit is mostly about task likeclassification classification predictionall this regression prediction so allthis tasks you can basically do in shortover here your data set that you haveright these are this entirediscriminative models are trained onlabeled data set you have to reallyunderstand this okay label data setsimilarly in the case of generative AIif I really want to understand about thetask it is nothing but itgenerates newdata trainedon huge data set right so if I talkabout more llm models right obviouslyyou know companies like openAI you know companies likemetaGoogle anthropic right and every body'srace in in the race\"\"\""
      ],
      "metadata": {
        "id": "Ykm6iyBcSjaU"
      },
      "execution_count": null,
      "outputs": []
    },
    {
      "cell_type": "code",
      "source": [
        "# text = \"\"\"Very limited, you're working together. You're going to be hearing it from every single instructor that you'll cheat. People will tell you that you're hurting your fellow students by cheating. It would be true if this close regretted on a curve but it's nice. I'm grading on a curve is evil because it makes you compete with each other instead of cooperating. So, you are not hurting anybody else by doing well in the class. Another thing that I've heard people say that isn't true is that you are going to harm the reputation of the university of California if you cheat. Now come on. Every three or four years a football player rapes a townie at a fraternity part and that's terrible, but the reputation of the university of California is pretty good. So, that’s why you shouldn't cheat. You guys rate now or constructing the person you're going to be for the rest of your life. Human behavior is mostly a matter of habits people talk as if you make big decisions all the time about what to do, but that's not true almost all the time. You just do what you're in the habit of doing. \"\"\""
      ],
      "metadata": {
        "id": "8XZtvOz6YWBI"
      },
      "execution_count": null,
      "outputs": []
    },
    {
      "cell_type": "code",
      "source": [
        "text = \"\"\"Labour plans maternity pay rise. Maternity pay for new mothers is to rise by £1,400 as part of new proposals announced by the Trade and Industry Secretary Patricia Hewitt. It would mean paid leave would be increased to nine months by 2007, Ms Hewitt told GMTV's Sunday programme. Other plans include letting maternity pay be given to fathers and extending rights to parents of older children. The Tories dismissed the maternity pay plan as \"desperate\", while the Liberal Democrats said it was misdirected. Ms Hewitt said: \"We have already doubled the length of maternity pay, it was 13 weeks when we were elected, we have already taken it up to 26 weeks. \"We are going to extend the pay to nine months by 2007 and the aim is to get it right up to the full 12 months by the end of the next Parliament.\" She said new mothers were already entitled to 12 months leave, but that many women could not take it as only six of those months were paid. \"We have made a firm commitment. We will definitely extend the maternity pay, from the six months where it now is to nine months, that's the extra £1,400.\" She said ministers would consult on other proposals that could see fathers being allowed to take some of their partner's maternity pay or leave period, or extending the rights of flexible working to carers or parents of older children. The Shadow Secretary of State for the Family, Theresa May, said: \"These plans were announced by Gordon Brown in his pre-budget review in December and Tony Blair is now recycling it in his desperate bid to win back women voters.\" She said the Conservatives would announce their proposals closer to the General Election. Liberal Democrat spokeswoman for women Sandra Gidley said: \"While mothers would welcome any extra maternity pay the Liberal Democrats feel this money is being misdirected.\" She said her party would boost maternity pay in the first six months to allow more women to stay at home in that time. Ms Hewitt also stressed the plans would be paid for by taxpayers, not employers. But David Frost, director general of the British Chambers of Commerce, warned that many small firms could be \"crippled\" by the move. \"While the majority of any salary costs may be covered by the government's statutory pay, recruitment costs, advertising costs, retraining costs and the strain on the company will not be,\" he said. Further details of the government's plans will be outlined on Monday. New mothers are currently entitled to 90% of average earnings for the first six weeks after giving birth, followed by £102.80 a week until the baby is six months old.\"\"\""
      ],
      "metadata": {
        "id": "_M0lQWAOoM6P"
      },
      "execution_count": null,
      "outputs": []
    },
    {
      "cell_type": "markdown",
      "source": [
        "# Tokenization of Words"
      ],
      "metadata": {
        "id": "2cTi1_L2HUAk"
      }
    },
    {
      "cell_type": "code",
      "source": [
        "nlp = spacy.load('en_core_web_sm')"
      ],
      "metadata": {
        "id": "RKEKNbZhM8rE"
      },
      "execution_count": null,
      "outputs": []
    },
    {
      "cell_type": "code",
      "source": [
        "doc = nlp(text)"
      ],
      "metadata": {
        "id": "xXZCFvddNAIO"
      },
      "execution_count": null,
      "outputs": []
    },
    {
      "cell_type": "code",
      "source": [
        "tokens = [token.text.lower() for token in doc\n",
        "          if not token.is_stop and\n",
        "          not token.is_punct and\n",
        "          token.text !='\\n']\n",
        "\n",
        "# tokens"
      ],
      "metadata": {
        "id": "gMZtIB23NCBD"
      },
      "execution_count": null,
      "outputs": []
    },
    {
      "cell_type": "code",
      "source": [
        "tokens1=[]\n",
        "stopwords = list(STOP_WORDS)\n",
        "allowed_pos = ['ADJ','PROPN','VERB','NOUN']\n",
        "for token in doc:\n",
        "    if token.text in stopwords or token.text in punctuation:\n",
        "        continue\n",
        "    if token.pos_ in allowed_pos:\n",
        "        tokens1.append(token.text)\n",
        "\n",
        "# tokens1"
      ],
      "metadata": {
        "id": "9rYl54zWNJxu"
      },
      "execution_count": null,
      "outputs": []
    },
    {
      "cell_type": "code",
      "source": [
        "sent_score = {}"
      ],
      "metadata": {
        "id": "1fRv_1gCviK7"
      },
      "execution_count": null,
      "outputs": []
    },
    {
      "cell_type": "markdown",
      "source": [
        "# 1. Word Frequency Counting"
      ],
      "metadata": {
        "id": "eIvyNBzRHd8p"
      }
    },
    {
      "cell_type": "code",
      "source": [
        "word_freq = Counter(tokens)\n",
        "# word_freq"
      ],
      "metadata": {
        "id": "ZaPTn9pyNTwO"
      },
      "execution_count": null,
      "outputs": []
    },
    {
      "cell_type": "code",
      "source": [
        "max_freq = max(word_freq.values())\n",
        "max_freq"
      ],
      "metadata": {
        "id": "G4zXyvo6NXOS",
        "colab": {
          "base_uri": "https://localhost:8080/"
        },
        "outputId": "67e9e1f0-a924-43b2-9aef-7604dfc5d259"
      },
      "execution_count": null,
      "outputs": [
        {
          "output_type": "execute_result",
          "data": {
            "text/plain": [
              "11"
            ]
          },
          "metadata": {},
          "execution_count": 13
        }
      ]
    },
    {
      "cell_type": "code",
      "source": [
        "# Normalizing the word count\n",
        "for word in word_freq.keys():\n",
        "    word_freq[word] = word_freq[word]/max_freq"
      ],
      "metadata": {
        "id": "2p6k2UfTNch0"
      },
      "execution_count": null,
      "outputs": []
    },
    {
      "cell_type": "code",
      "source": [
        "# Sentence storing in sent_tokens\n",
        "sent_tokens = [sent.text for sent in doc.sents]\n",
        "sent_tokens"
      ],
      "metadata": {
        "id": "M0ldqm_-Npd7",
        "colab": {
          "base_uri": "https://localhost:8080/"
        },
        "outputId": "f6ceaca6-313c-4acf-f534-91218c69964b"
      },
      "execution_count": null,
      "outputs": [
        {
          "output_type": "execute_result",
          "data": {
            "text/plain": [
              "['Labour plans maternity pay rise.',\n",
              " 'Maternity pay for new mothers is to rise by £1,400 as part of new proposals announced by the Trade and Industry Secretary Patricia Hewitt.',\n",
              " \"It would mean paid leave would be increased to nine months by 2007, Ms Hewitt told GMTV's Sunday programme.\",\n",
              " 'Other plans include letting maternity pay be given to fathers and extending rights to parents of older children.',\n",
              " 'The Tories dismissed the maternity pay plan as \"desperate\", while the Liberal Democrats said it was misdirected.',\n",
              " 'Ms Hewitt said: \"We have already doubled the length of maternity pay, it was 13 weeks when we were elected, we have already taken it up to 26 weeks.',\n",
              " '\"We are going to extend the pay to nine months by 2007 and the aim is to get it right up to the full 12 months by the end of the next Parliament.\"',\n",
              " 'She said new mothers were already entitled to 12 months leave, but that many women could not take it as only six of those months were paid.',\n",
              " '\"We have made a firm commitment.',\n",
              " 'We will definitely extend the maternity pay, from the six months where it now is to nine months, that\\'s the extra £1,400.\"',\n",
              " \"She said ministers would consult on other proposals that could see fathers being allowed to take some of their partner's maternity pay or leave period, or extending the rights of flexible working to carers or parents of older children.\",\n",
              " 'The Shadow Secretary of State for the Family, Theresa May, said: \"These plans were announced by Gordon Brown in his pre-budget review in December and Tony Blair is now recycling it in his desperate bid to win back women voters.\"',\n",
              " 'She said the Conservatives would announce their proposals closer to the General Election.',\n",
              " 'Liberal Democrat spokeswoman for women Sandra Gidley said: \"While mothers would welcome any extra maternity pay the Liberal Democrats feel this money is being misdirected.\"',\n",
              " 'She said her party would boost maternity pay in the first six months to allow more women to stay at home in that time.',\n",
              " 'Ms Hewitt also stressed the plans would be paid for by taxpayers, not employers.',\n",
              " 'But David Frost, director general of the British Chambers of Commerce, warned that many small firms could be \"crippled\" by the move.',\n",
              " '\"While the majority of any salary costs may be covered by the government\\'s statutory pay, recruitment costs, advertising costs, retraining costs and the strain on the company will not be,\" he said.',\n",
              " \"Further details of the government's plans will be outlined on Monday.\",\n",
              " 'New mothers are currently entitled to 90% of average earnings for the first six weeks after giving birth, followed by £102.80 a week until the baby is six months old.']"
            ]
          },
          "metadata": {},
          "execution_count": 15
        }
      ]
    },
    {
      "cell_type": "markdown",
      "source": [
        "# 2. Sentence Length"
      ],
      "metadata": {
        "id": "zn6KD5RyKmRF"
      }
    },
    {
      "cell_type": "code",
      "source": [
        "total_words_count = len(text.split())\n",
        "print(\"Word Count of original text:\", total_words_count)\n",
        "\n",
        "print(\"Character count of original text:\", len(text))\n",
        "\n",
        "# Get a list of all the sentences\n",
        "total_sentences_count = len(sent_tokens)\n",
        "print(\"Number of sentences:\", total_sentences_count)\n",
        "\n",
        "# Average sentence length - Divide total words by number of sentences\n",
        "if total_sentences_count > 0:\n",
        "    average_sentence_length = total_words_count / total_sentences_count\n",
        "    floored_sentence_length = math.floor(average_sentence_length)\n",
        "    print(\"Average sentence length:\", floored_sentence_length)\n",
        "else:\n",
        "    print(\"No sentences found; average sentence length is undefined.\")"
      ],
      "metadata": {
        "colab": {
          "base_uri": "https://localhost:8080/"
        },
        "id": "ED0qgAgcpbN4",
        "outputId": "8db59d43-e729-4acc-df32-7ea5e002c3dd"
      },
      "execution_count": null,
      "outputs": [
        {
          "output_type": "stream",
          "name": "stdout",
          "text": [
            "Word Count of original text: 450\n",
            "Character count of original text: 2593\n",
            "Number of sentences: 20\n",
            "Average sentence length: 22\n"
          ]
        }
      ]
    },
    {
      "cell_type": "code",
      "source": [
        "# if sentence length by words is equal to or higher than average sentence length then increase sent_score by sent_score += max_freq. Consider average sentence length as: total_word_count / total_sentence_count\n",
        "\n",
        "average_sentence_length = total_words_count / total_sentences_count if total_sentences_count else 0\n",
        "\n",
        "# sent_score = {}\n",
        "for sentence in sent_tokens:\n",
        "    sentence_word_count = len([token.text for token in nlp(sentence)])\n",
        "    if sentence_word_count >= average_sentence_length:\n",
        "        if sentence not in sent_score.keys():\n",
        "            sent_score[sentence] = max_freq\n",
        "        else:\n",
        "            sent_score[sentence] += max_freq"
      ],
      "metadata": {
        "id": "raSfTdPdKpdX"
      },
      "execution_count": null,
      "outputs": []
    },
    {
      "cell_type": "markdown",
      "source": [
        "\n",
        "\n",
        "\n",
        "\n",
        "\n",
        "\n",
        "\n",
        "\n",
        "\n",
        "\n",
        "\n",
        "\n",
        "\n",
        "\n",
        "\n",
        "\n",
        "\n",
        "\n",
        "\n",
        "\n",
        "\n",
        "\n",
        "# 3. Numerical Data Weitage Handling"
      ],
      "metadata": {
        "id": "X0pRIHs6Kp6W"
      }
    },
    {
      "cell_type": "code",
      "source": [
        "# if sentence is having any numerical value then increase sent_score by sent_score +=max_freq\n",
        "\n",
        "# sent_scores = {}\n",
        "# for sent in sent_tokens:\n",
        "#     sent_score = 0\n",
        "#     for word in sent.split():\n",
        "#         if word.isdigit():\n",
        "#             sent_score += max_freq\n",
        "#             break  # Only increase score once per sentence if a numerical value is found\n",
        "#     sent_scores[sent] = sent_score\n",
        "\n",
        "def increase_score_for_numeric(sent_tokens, sent_scores, max_freq):\n",
        "    \"\"\"\n",
        "    Increases the score of sentences that contain numerical values.\n",
        "\n",
        "    Args:\n",
        "    sent_tokens (list): List of sentences (strings).\n",
        "    sent_scores (dict): Dictionary with existing sentence scores.\n",
        "    max_freq (float): Maximum frequency value used to scale the score.\n",
        "\n",
        "    Returns:\n",
        "    dict: Updated dictionary of sentence scores with added weight for numerical values.\n",
        "    \"\"\"\n",
        "\n",
        "    for sent in sent_tokens:\n",
        "        # Process each sentence with SpaCy to check for numeric values\n",
        "        doc = nlp(sent)\n",
        "\n",
        "        # Check if the sentence contains any numeric tokens\n",
        "        has_numeric = any([token.like_num for token in doc])\n",
        "\n",
        "        # If the sentence has numeric values, increase its score\n",
        "        if has_numeric:\n",
        "            if sent in sent_scores:\n",
        "                sent_scores[sent] += max_freq  # Add to existing score\n",
        "            else:\n",
        "                sent_scores[sent] = max_freq  # Initialize score if not present\n",
        "\n",
        "    return sent_scores\n",
        "\n",
        "# Calling the function above\n",
        "sent_scores = increase_score_for_numeric(sent_tokens, sent_score, max_freq)"
      ],
      "metadata": {
        "id": "LNuCOtQjK4G3"
      },
      "execution_count": null,
      "outputs": []
    },
    {
      "cell_type": "markdown",
      "source": [
        "# 4. Similarity to the Title"
      ],
      "metadata": {
        "id": "88J0SOhEK6Zd"
      }
    },
    {
      "cell_type": "code",
      "source": [
        "# Step 1: Defining the title\n",
        "title = \"proposal for rise in maternity pay\""
      ],
      "metadata": {
        "id": "8CVl7hZcK_Jz"
      },
      "execution_count": null,
      "outputs": []
    },
    {
      "cell_type": "code",
      "source": [
        "# Step 2: Function to calculate cosine similarity between sentences and title\n",
        "# def cosine_similarity_with_title(sentence, title):\n",
        "#     vectorizer = CountVectorizer().fit_transform([sentence, title])\n",
        "#     vectors = vectorizer.toarray()\n",
        "#     cosine_sim = cosine_similarity(vectors)\n",
        "#     return cosine_sim[0][1]  # Return the similarity score between sentence and title\n",
        "\n",
        "# New Code:\n",
        "\n",
        "def cosine_similarity_with_title(sentence, title):\n",
        "    if not sentence or not title:\n",
        "        return 0.0\n",
        "\n",
        "    vectorizer = TfidfVectorizer().fit_transform([sentence, title])\n",
        "    vectors = vectorizer.toarray()\n",
        "\n",
        "    if vectors.shape[0] < 2:\n",
        "        return 0.0\n",
        "\n",
        "    cosine_sim = cosine_similarity(vectors)\n",
        "    return cosine_sim[0][1]"
      ],
      "metadata": {
        "id": "5DPu5q9dbkf9"
      },
      "execution_count": null,
      "outputs": []
    },
    {
      "cell_type": "markdown",
      "source": [
        "# Sentence to Sentence Cosine Similarity calculation"
      ],
      "metadata": {
        "id": "VeAFJy_H9hs4"
      }
    },
    {
      "cell_type": "markdown",
      "source": [
        "https://www.learndatasci.com/glossary/cosine-similarity/\n",
        "\n",
        "https://campus.datacamp.com/courses/natural-language-processing-with-spacy/spacy-linguistic-annotations-and-word-vectors?ex=12#:~:text=We%20can%20also%20determine%20whether,975%20and%20close%20to%201."
      ],
      "metadata": {
        "id": "TPeHSh6-Kh9U"
      }
    },
    {
      "cell_type": "code",
      "source": [
        "def sentence_to_sentence_similarity(sentences):\n",
        "    # Ensure there are sentences to compare\n",
        "    if not sentences or len(sentences) < 2:\n",
        "        return None  # Return None if there are less than 2 sentences\n",
        "\n",
        "    # Initialize TfidfVectorizer\n",
        "    vectorizer = TfidfVectorizer().fit_transform(sentences)\n",
        "\n",
        "    # Convert the sentences into TF-IDF vectors\n",
        "    vectors = vectorizer.toarray()\n",
        "\n",
        "    # Calculate cosine similarity between all pairs of sentences\n",
        "    cosine_sim_matrix = cosine_similarity(vectors)\n",
        "\n",
        "    # Create a DataFrame for better readability\n",
        "    similarity_df = pd.DataFrame(cosine_sim_matrix, index=sentences, columns=sentences)\n",
        "\n",
        "    return similarity_df"
      ],
      "metadata": {
        "id": "i148yJWVbfU9"
      },
      "execution_count": null,
      "outputs": []
    },
    {
      "cell_type": "markdown",
      "source": [
        "# Calculating Sentence Score"
      ],
      "metadata": {
        "id": "i3pBFAqKHuSC"
      }
    },
    {
      "cell_type": "code",
      "source": [
        "# for sent in sent_tokens:\n",
        "#     for word in sent.split():\n",
        "#         if word.lower() in word_freq.keys():\n",
        "#             if sent not in sent_score.keys():\n",
        "#                 sent_score[sent] = word_freq[word]\n",
        "#             else:\n",
        "#                 sent_score[sent] +=word_freq[word]\n",
        "#         # print(word)\n",
        "# Initialize sent_score as a dictionary instead of an integer.\n",
        "\n",
        "# sent_score = {}\n",
        "\n",
        "for sent in sent_tokens:\n",
        "    for word in sent.split():\n",
        "        if word.lower() in word_freq.keys():  #word_freq is a Counter object and is callable directly.\n",
        "            if sent not in sent_score:  # you can check the key directly or use sent_score.keys() (less performant)\n",
        "                sent_score[sent] = word_freq[word] # Assigning values to the dictionary\n",
        "            else:\n",
        "                sent_score[sent] += word_freq[word]"
      ],
      "metadata": {
        "id": "SX2egeFFNluQ"
      },
      "execution_count": null,
      "outputs": []
    },
    {
      "cell_type": "code",
      "source": [
        "pd.DataFrame(list(sent_score.items()),columns=['Sentence','Score'])"
      ],
      "metadata": {
        "colab": {
          "base_uri": "https://localhost:8080/",
          "height": 677
        },
        "id": "K0FQxn0JN2Id",
        "outputId": "17feddcc-b65d-45ff-91b4-237c00234875"
      },
      "execution_count": null,
      "outputs": [
        {
          "output_type": "execute_result",
          "data": {
            "text/plain": [
              "                                             Sentence     Score\n",
              "0                    Labour plans maternity pay rise.  2.272727\n",
              "1   Maternity pay for new mothers is to rise by £1...  2.727273\n",
              "2   It would mean paid leave would be increased to...  1.636364\n",
              "3   Other plans include letting maternity pay be g...  3.454545\n",
              "4   The Tories dismissed the maternity pay plan as...  2.818182\n",
              "5   Ms Hewitt said: \"We have already doubled the l...  1.545455\n",
              "6   \"We are going to extend the pay to nine months...  3.545455\n",
              "7   She said new mothers were already entitled to ...  3.909091\n",
              "8                    \"We have made a firm commitment.  0.090909\n",
              "9   We will definitely extend the maternity pay, f...  2.090909\n",
              "10  She said ministers would consult on other prop...  4.636364\n",
              "11  The Shadow Secretary of State for the Family, ...  1.545455\n",
              "12  She said the Conservatives would announce thei...  1.272727\n",
              "13  Liberal Democrat spokeswoman for women Sandra ...  3.090909\n",
              "14  She said her party would boost maternity pay i...  4.272727\n",
              "15  Ms Hewitt also stressed the plans would be pai...  0.818182\n",
              "16  But David Frost, director general of the Briti...  0.545455\n",
              "17  \"While the majority of any salary costs may be...  1.545455\n",
              "18  Further details of the government's plans will...  0.636364\n",
              "19  New mothers are currently entitled to 90% of a...  2.272727"
            ],
            "text/html": [
              "\n",
              "  <div id=\"df-81938df2-cc07-40af-bc47-28187b7d7ca4\" class=\"colab-df-container\">\n",
              "    <div>\n",
              "<style scoped>\n",
              "    .dataframe tbody tr th:only-of-type {\n",
              "        vertical-align: middle;\n",
              "    }\n",
              "\n",
              "    .dataframe tbody tr th {\n",
              "        vertical-align: top;\n",
              "    }\n",
              "\n",
              "    .dataframe thead th {\n",
              "        text-align: right;\n",
              "    }\n",
              "</style>\n",
              "<table border=\"1\" class=\"dataframe\">\n",
              "  <thead>\n",
              "    <tr style=\"text-align: right;\">\n",
              "      <th></th>\n",
              "      <th>Sentence</th>\n",
              "      <th>Score</th>\n",
              "    </tr>\n",
              "  </thead>\n",
              "  <tbody>\n",
              "    <tr>\n",
              "      <th>0</th>\n",
              "      <td>Labour plans maternity pay rise.</td>\n",
              "      <td>2.272727</td>\n",
              "    </tr>\n",
              "    <tr>\n",
              "      <th>1</th>\n",
              "      <td>Maternity pay for new mothers is to rise by £1...</td>\n",
              "      <td>2.727273</td>\n",
              "    </tr>\n",
              "    <tr>\n",
              "      <th>2</th>\n",
              "      <td>It would mean paid leave would be increased to...</td>\n",
              "      <td>1.636364</td>\n",
              "    </tr>\n",
              "    <tr>\n",
              "      <th>3</th>\n",
              "      <td>Other plans include letting maternity pay be g...</td>\n",
              "      <td>3.454545</td>\n",
              "    </tr>\n",
              "    <tr>\n",
              "      <th>4</th>\n",
              "      <td>The Tories dismissed the maternity pay plan as...</td>\n",
              "      <td>2.818182</td>\n",
              "    </tr>\n",
              "    <tr>\n",
              "      <th>5</th>\n",
              "      <td>Ms Hewitt said: \"We have already doubled the l...</td>\n",
              "      <td>1.545455</td>\n",
              "    </tr>\n",
              "    <tr>\n",
              "      <th>6</th>\n",
              "      <td>\"We are going to extend the pay to nine months...</td>\n",
              "      <td>3.545455</td>\n",
              "    </tr>\n",
              "    <tr>\n",
              "      <th>7</th>\n",
              "      <td>She said new mothers were already entitled to ...</td>\n",
              "      <td>3.909091</td>\n",
              "    </tr>\n",
              "    <tr>\n",
              "      <th>8</th>\n",
              "      <td>\"We have made a firm commitment.</td>\n",
              "      <td>0.090909</td>\n",
              "    </tr>\n",
              "    <tr>\n",
              "      <th>9</th>\n",
              "      <td>We will definitely extend the maternity pay, f...</td>\n",
              "      <td>2.090909</td>\n",
              "    </tr>\n",
              "    <tr>\n",
              "      <th>10</th>\n",
              "      <td>She said ministers would consult on other prop...</td>\n",
              "      <td>4.636364</td>\n",
              "    </tr>\n",
              "    <tr>\n",
              "      <th>11</th>\n",
              "      <td>The Shadow Secretary of State for the Family, ...</td>\n",
              "      <td>1.545455</td>\n",
              "    </tr>\n",
              "    <tr>\n",
              "      <th>12</th>\n",
              "      <td>She said the Conservatives would announce thei...</td>\n",
              "      <td>1.272727</td>\n",
              "    </tr>\n",
              "    <tr>\n",
              "      <th>13</th>\n",
              "      <td>Liberal Democrat spokeswoman for women Sandra ...</td>\n",
              "      <td>3.090909</td>\n",
              "    </tr>\n",
              "    <tr>\n",
              "      <th>14</th>\n",
              "      <td>She said her party would boost maternity pay i...</td>\n",
              "      <td>4.272727</td>\n",
              "    </tr>\n",
              "    <tr>\n",
              "      <th>15</th>\n",
              "      <td>Ms Hewitt also stressed the plans would be pai...</td>\n",
              "      <td>0.818182</td>\n",
              "    </tr>\n",
              "    <tr>\n",
              "      <th>16</th>\n",
              "      <td>But David Frost, director general of the Briti...</td>\n",
              "      <td>0.545455</td>\n",
              "    </tr>\n",
              "    <tr>\n",
              "      <th>17</th>\n",
              "      <td>\"While the majority of any salary costs may be...</td>\n",
              "      <td>1.545455</td>\n",
              "    </tr>\n",
              "    <tr>\n",
              "      <th>18</th>\n",
              "      <td>Further details of the government's plans will...</td>\n",
              "      <td>0.636364</td>\n",
              "    </tr>\n",
              "    <tr>\n",
              "      <th>19</th>\n",
              "      <td>New mothers are currently entitled to 90% of a...</td>\n",
              "      <td>2.272727</td>\n",
              "    </tr>\n",
              "  </tbody>\n",
              "</table>\n",
              "</div>\n",
              "    <div class=\"colab-df-buttons\">\n",
              "\n",
              "  <div class=\"colab-df-container\">\n",
              "    <button class=\"colab-df-convert\" onclick=\"convertToInteractive('df-81938df2-cc07-40af-bc47-28187b7d7ca4')\"\n",
              "            title=\"Convert this dataframe to an interactive table.\"\n",
              "            style=\"display:none;\">\n",
              "\n",
              "  <svg xmlns=\"http://www.w3.org/2000/svg\" height=\"24px\" viewBox=\"0 -960 960 960\">\n",
              "    <path d=\"M120-120v-720h720v720H120Zm60-500h600v-160H180v160Zm220 220h160v-160H400v160Zm0 220h160v-160H400v160ZM180-400h160v-160H180v160Zm440 0h160v-160H620v160ZM180-180h160v-160H180v160Zm440 0h160v-160H620v160Z\"/>\n",
              "  </svg>\n",
              "    </button>\n",
              "\n",
              "  <style>\n",
              "    .colab-df-container {\n",
              "      display:flex;\n",
              "      gap: 12px;\n",
              "    }\n",
              "\n",
              "    .colab-df-convert {\n",
              "      background-color: #E8F0FE;\n",
              "      border: none;\n",
              "      border-radius: 50%;\n",
              "      cursor: pointer;\n",
              "      display: none;\n",
              "      fill: #1967D2;\n",
              "      height: 32px;\n",
              "      padding: 0 0 0 0;\n",
              "      width: 32px;\n",
              "    }\n",
              "\n",
              "    .colab-df-convert:hover {\n",
              "      background-color: #E2EBFA;\n",
              "      box-shadow: 0px 1px 2px rgba(60, 64, 67, 0.3), 0px 1px 3px 1px rgba(60, 64, 67, 0.15);\n",
              "      fill: #174EA6;\n",
              "    }\n",
              "\n",
              "    .colab-df-buttons div {\n",
              "      margin-bottom: 4px;\n",
              "    }\n",
              "\n",
              "    [theme=dark] .colab-df-convert {\n",
              "      background-color: #3B4455;\n",
              "      fill: #D2E3FC;\n",
              "    }\n",
              "\n",
              "    [theme=dark] .colab-df-convert:hover {\n",
              "      background-color: #434B5C;\n",
              "      box-shadow: 0px 1px 3px 1px rgba(0, 0, 0, 0.15);\n",
              "      filter: drop-shadow(0px 1px 2px rgba(0, 0, 0, 0.3));\n",
              "      fill: #FFFFFF;\n",
              "    }\n",
              "  </style>\n",
              "\n",
              "    <script>\n",
              "      const buttonEl =\n",
              "        document.querySelector('#df-81938df2-cc07-40af-bc47-28187b7d7ca4 button.colab-df-convert');\n",
              "      buttonEl.style.display =\n",
              "        google.colab.kernel.accessAllowed ? 'block' : 'none';\n",
              "\n",
              "      async function convertToInteractive(key) {\n",
              "        const element = document.querySelector('#df-81938df2-cc07-40af-bc47-28187b7d7ca4');\n",
              "        const dataTable =\n",
              "          await google.colab.kernel.invokeFunction('convertToInteractive',\n",
              "                                                    [key], {});\n",
              "        if (!dataTable) return;\n",
              "\n",
              "        const docLinkHtml = 'Like what you see? Visit the ' +\n",
              "          '<a target=\"_blank\" href=https://colab.research.google.com/notebooks/data_table.ipynb>data table notebook</a>'\n",
              "          + ' to learn more about interactive tables.';\n",
              "        element.innerHTML = '';\n",
              "        dataTable['output_type'] = 'display_data';\n",
              "        await google.colab.output.renderOutput(dataTable, element);\n",
              "        const docLink = document.createElement('div');\n",
              "        docLink.innerHTML = docLinkHtml;\n",
              "        element.appendChild(docLink);\n",
              "      }\n",
              "    </script>\n",
              "  </div>\n",
              "\n",
              "\n",
              "<div id=\"df-e9ab7d28-4e4b-403f-99d2-68e92b7b1315\">\n",
              "  <button class=\"colab-df-quickchart\" onclick=\"quickchart('df-e9ab7d28-4e4b-403f-99d2-68e92b7b1315')\"\n",
              "            title=\"Suggest charts\"\n",
              "            style=\"display:none;\">\n",
              "\n",
              "<svg xmlns=\"http://www.w3.org/2000/svg\" height=\"24px\"viewBox=\"0 0 24 24\"\n",
              "     width=\"24px\">\n",
              "    <g>\n",
              "        <path d=\"M19 3H5c-1.1 0-2 .9-2 2v14c0 1.1.9 2 2 2h14c1.1 0 2-.9 2-2V5c0-1.1-.9-2-2-2zM9 17H7v-7h2v7zm4 0h-2V7h2v10zm4 0h-2v-4h2v4z\"/>\n",
              "    </g>\n",
              "</svg>\n",
              "  </button>\n",
              "\n",
              "<style>\n",
              "  .colab-df-quickchart {\n",
              "      --bg-color: #E8F0FE;\n",
              "      --fill-color: #1967D2;\n",
              "      --hover-bg-color: #E2EBFA;\n",
              "      --hover-fill-color: #174EA6;\n",
              "      --disabled-fill-color: #AAA;\n",
              "      --disabled-bg-color: #DDD;\n",
              "  }\n",
              "\n",
              "  [theme=dark] .colab-df-quickchart {\n",
              "      --bg-color: #3B4455;\n",
              "      --fill-color: #D2E3FC;\n",
              "      --hover-bg-color: #434B5C;\n",
              "      --hover-fill-color: #FFFFFF;\n",
              "      --disabled-bg-color: #3B4455;\n",
              "      --disabled-fill-color: #666;\n",
              "  }\n",
              "\n",
              "  .colab-df-quickchart {\n",
              "    background-color: var(--bg-color);\n",
              "    border: none;\n",
              "    border-radius: 50%;\n",
              "    cursor: pointer;\n",
              "    display: none;\n",
              "    fill: var(--fill-color);\n",
              "    height: 32px;\n",
              "    padding: 0;\n",
              "    width: 32px;\n",
              "  }\n",
              "\n",
              "  .colab-df-quickchart:hover {\n",
              "    background-color: var(--hover-bg-color);\n",
              "    box-shadow: 0 1px 2px rgba(60, 64, 67, 0.3), 0 1px 3px 1px rgba(60, 64, 67, 0.15);\n",
              "    fill: var(--button-hover-fill-color);\n",
              "  }\n",
              "\n",
              "  .colab-df-quickchart-complete:disabled,\n",
              "  .colab-df-quickchart-complete:disabled:hover {\n",
              "    background-color: var(--disabled-bg-color);\n",
              "    fill: var(--disabled-fill-color);\n",
              "    box-shadow: none;\n",
              "  }\n",
              "\n",
              "  .colab-df-spinner {\n",
              "    border: 2px solid var(--fill-color);\n",
              "    border-color: transparent;\n",
              "    border-bottom-color: var(--fill-color);\n",
              "    animation:\n",
              "      spin 1s steps(1) infinite;\n",
              "  }\n",
              "\n",
              "  @keyframes spin {\n",
              "    0% {\n",
              "      border-color: transparent;\n",
              "      border-bottom-color: var(--fill-color);\n",
              "      border-left-color: var(--fill-color);\n",
              "    }\n",
              "    20% {\n",
              "      border-color: transparent;\n",
              "      border-left-color: var(--fill-color);\n",
              "      border-top-color: var(--fill-color);\n",
              "    }\n",
              "    30% {\n",
              "      border-color: transparent;\n",
              "      border-left-color: var(--fill-color);\n",
              "      border-top-color: var(--fill-color);\n",
              "      border-right-color: var(--fill-color);\n",
              "    }\n",
              "    40% {\n",
              "      border-color: transparent;\n",
              "      border-right-color: var(--fill-color);\n",
              "      border-top-color: var(--fill-color);\n",
              "    }\n",
              "    60% {\n",
              "      border-color: transparent;\n",
              "      border-right-color: var(--fill-color);\n",
              "    }\n",
              "    80% {\n",
              "      border-color: transparent;\n",
              "      border-right-color: var(--fill-color);\n",
              "      border-bottom-color: var(--fill-color);\n",
              "    }\n",
              "    90% {\n",
              "      border-color: transparent;\n",
              "      border-bottom-color: var(--fill-color);\n",
              "    }\n",
              "  }\n",
              "</style>\n",
              "\n",
              "  <script>\n",
              "    async function quickchart(key) {\n",
              "      const quickchartButtonEl =\n",
              "        document.querySelector('#' + key + ' button');\n",
              "      quickchartButtonEl.disabled = true;  // To prevent multiple clicks.\n",
              "      quickchartButtonEl.classList.add('colab-df-spinner');\n",
              "      try {\n",
              "        const charts = await google.colab.kernel.invokeFunction(\n",
              "            'suggestCharts', [key], {});\n",
              "      } catch (error) {\n",
              "        console.error('Error during call to suggestCharts:', error);\n",
              "      }\n",
              "      quickchartButtonEl.classList.remove('colab-df-spinner');\n",
              "      quickchartButtonEl.classList.add('colab-df-quickchart-complete');\n",
              "    }\n",
              "    (() => {\n",
              "      let quickchartButtonEl =\n",
              "        document.querySelector('#df-e9ab7d28-4e4b-403f-99d2-68e92b7b1315 button');\n",
              "      quickchartButtonEl.style.display =\n",
              "        google.colab.kernel.accessAllowed ? 'block' : 'none';\n",
              "    })();\n",
              "  </script>\n",
              "</div>\n",
              "\n",
              "    </div>\n",
              "  </div>\n"
            ],
            "application/vnd.google.colaboratory.intrinsic+json": {
              "type": "dataframe",
              "summary": "{\n  \"name\": \"pd\",\n  \"rows\": 20,\n  \"fields\": [\n    {\n      \"column\": \"Sentence\",\n      \"properties\": {\n        \"dtype\": \"string\",\n        \"num_unique_values\": 20,\n        \"samples\": [\n          \"Labour plans maternity pay rise.\",\n          \"\\\"While the majority of any salary costs may be covered by the government's statutory pay, recruitment costs, advertising costs, retraining costs and the strain on the company will not be,\\\" he said.\",\n          \"Ms Hewitt also stressed the plans would be paid for by taxpayers, not employers.\"\n        ],\n        \"semantic_type\": \"\",\n        \"description\": \"\"\n      }\n    },\n    {\n      \"column\": \"Score\",\n      \"properties\": {\n        \"dtype\": \"number\",\n        \"std\": 1.297570252527232,\n        \"min\": 0.09090909090909091,\n        \"max\": 4.636363636363636,\n        \"num_unique_values\": 18,\n        \"samples\": [\n          2.2727272727272725,\n          2.7272727272727275,\n          0.09090909090909091\n        ],\n        \"semantic_type\": \"\",\n        \"description\": \"\"\n      }\n    }\n  ]\n}"
            }
          },
          "metadata": {},
          "execution_count": 24
        }
      ]
    },
    {
      "cell_type": "markdown",
      "source": [
        "# Summary Length Calculation\n"
      ],
      "metadata": {
        "id": "AYTDDRpWbScB"
      }
    },
    {
      "cell_type": "markdown",
      "source": [
        "#### Variable decleration of Summary Length Calculation"
      ],
      "metadata": {
        "id": "WJAWWvj7iuMi"
      }
    },
    {
      "cell_type": "markdown",
      "source": [
        "#### Math of Summary Length Calculation"
      ],
      "metadata": {
        "id": "JzIr8cxzi8M8"
      }
    },
    {
      "cell_type": "code",
      "source": [
        "if total_words_count > 0:\n",
        "    if total_words_count < 200:\n",
        "        total_summary_sentence_count = math.floor((total_sentences_count * (total_words_count * 0.35)) / total_words_count)\n",
        "    elif total_words_count < 600:\n",
        "        total_summary_sentence_count = math.floor((total_sentences_count * (total_words_count * 0.25)) / total_words_count) # converted from 25 to 45 because of BBC News Dataset\n",
        "    else:\n",
        "        total_summary_sentence_count = math.floor((total_sentences_count * (total_words_count * 0.15)) / total_words_count)\n",
        "else:\n",
        "    total_summary_sentence_count = 0  # If total_words_count is 0\n",
        "    print(\"please enter a bigger input\")\n",
        "\n",
        "print(total_summary_sentence_count)"
      ],
      "metadata": {
        "colab": {
          "base_uri": "https://localhost:8080/"
        },
        "id": "aaREa_-Uhxv_",
        "outputId": "f32b1f18-de96-4833-80ac-6a302202b3c3"
      },
      "execution_count": null,
      "outputs": [
        {
          "output_type": "stream",
          "name": "stdout",
          "text": [
            "5\n"
          ]
        }
      ]
    },
    {
      "cell_type": "markdown",
      "source": [
        "# Result"
      ],
      "metadata": {
        "id": "Br1twW_fjfDG"
      }
    },
    {
      "cell_type": "code",
      "source": [
        "n = nlargest(total_summary_sentence_count,sent_score,key=sent_score.get)"
      ],
      "metadata": {
        "id": "7X2bkA4YN63o"
      },
      "execution_count": null,
      "outputs": []
    },
    {
      "cell_type": "code",
      "source": [
        "model_Summary = \" \".join(n)\n",
        "model_Summary"
      ],
      "metadata": {
        "colab": {
          "base_uri": "https://localhost:8080/",
          "height": 122
        },
        "id": "b5quzW9FN8LE",
        "outputId": "0ce3d217-ab58-461a-b1db-6e449890e909"
      },
      "execution_count": null,
      "outputs": [
        {
          "output_type": "execute_result",
          "data": {
            "text/plain": [
              "'She said ministers would consult on other proposals that could see fathers being allowed to take some of their partner\\'s maternity pay or leave period, or extending the rights of flexible working to carers or parents of older children. She said her party would boost maternity pay in the first six months to allow more women to stay at home in that time. She said new mothers were already entitled to 12 months leave, but that many women could not take it as only six of those months were paid. \"We are going to extend the pay to nine months by 2007 and the aim is to get it right up to the full 12 months by the end of the next Parliament.\" Other plans include letting maternity pay be given to fathers and extending rights to parents of older children.'"
            ],
            "application/vnd.google.colaboratory.intrinsic+json": {
              "type": "string"
            }
          },
          "metadata": {},
          "execution_count": 27
        }
      ]
    },
    {
      "cell_type": "markdown",
      "source": [
        "# Evaluataion"
      ],
      "metadata": {
        "id": "nBrbQGmCVttD"
      }
    },
    {
      "cell_type": "markdown",
      "source": [
        "#### BLEU Score Evaluation"
      ],
      "metadata": {
        "id": "Qrn5i-fSjKut"
      }
    },
    {
      "cell_type": "code",
      "source": [
        "# Using BLEU score - range from 0 - 1, Nearere to 1, better the results\n",
        "\n",
        "# Download the 'punkt' resource for tokenization\n",
        "nltk.download('punkt')\n",
        "\n",
        "reference_Summary = \"\"\"She said her party would boost maternity pay in the first six months to allow more women to stay at home in that time. She said new mothers were already entitled to 12 months leave, but that many women could not take it as only six of those months were paid. The Tories dismissed the maternity pay plan as \"desperate\", while the Liberal Democrats said it was misdirected.  She said ministers would consult on other proposals that could see fathers being allowed to take some of their partner's maternity pay or leave period, or extending the rights of flexible working to carers or parents of older children. Liberal Democrat spokeswoman for women Sandra Gidley said: \"While mothers would welcome any extra maternity pay the Liberal Democrats feel this money is being misdirected.\" We will definitely extend the maternity pay, from the six months where it now is to nine months, that's the extra £1,400.\"Ms Hewitt said: \"We have already doubled the length of maternity pay, it was 13 weeks when we were elected, we have already taken it up to 26 weeks. Other plans include letting maternity pay be given to fathers and extending rights to parents of older children.\"\"\"\n",
        "\n",
        "# Reference summary (ground truth or human-written summary)\n",
        "reference = [nltk.word_tokenize(reference_Summary)]\n",
        "\n",
        "# Generated summary (from the output of your code)\n",
        "candidate = nltk.word_tokenize(model_Summary)\n",
        "\n",
        "# Calculate BLEU score\n",
        "smoothie = SmoothingFunction().method4  # Smoothing to avoid zero division errors for small text\n",
        "bleu_score = sentence_bleu(reference, candidate, smoothing_function=smoothie)\n",
        "print(f\"BLEU Score: {bleu_score}\")"
      ],
      "metadata": {
        "colab": {
          "base_uri": "https://localhost:8080/"
        },
        "id": "ouJpiDWCOBBF",
        "outputId": "28c0f8cc-6c6b-498c-e1c2-4dee683768a8"
      },
      "execution_count": null,
      "outputs": [
        {
          "output_type": "stream",
          "name": "stderr",
          "text": [
            "[nltk_data] Downloading package punkt to /root/nltk_data...\n",
            "[nltk_data]   Unzipping tokenizers/punkt.zip.\n"
          ]
        },
        {
          "output_type": "stream",
          "name": "stdout",
          "text": [
            "BLEU Score: 0.4792904420406009\n"
          ]
        }
      ]
    },
    {
      "cell_type": "markdown",
      "source": [
        "#### ROUGE-2 Score Evaluation"
      ],
      "metadata": {
        "id": "ETc10EsHjPdl"
      }
    },
    {
      "cell_type": "code",
      "source": [
        "# ROUGE-2 - range from 0 - 1, Nearere to 1, better the results\n",
        "\n",
        "# Reference summary (ground truth or human-written summary)\n",
        "reference = reference_Summary\n",
        "\n",
        "# Generated summary (from the output of your code)\n",
        "generated_summary = model_Summary\n",
        "\n",
        "# Initialize ROUGE scorer for ROUGE-2\n",
        "scorer = rouge_scorer.RougeScorer(['rouge2'], use_stemmer=True)\n",
        "scores = scorer.score(reference, generated_summary)\n",
        "\n",
        "# Print ROUGE-2 score\n",
        "print(f\"ROUGE-2 Precision: {scores['rouge2'].precision}\")\n",
        "print(f\"ROUGE-2 Recall: {scores['rouge2'].recall}\")\n",
        "print(f\"ROUGE-2 F1 Score: {scores['rouge2'].fmeasure}\")"
      ],
      "metadata": {
        "colab": {
          "base_uri": "https://localhost:8080/"
        },
        "id": "HAD8ywlpW9mu",
        "outputId": "49f8b434-fc87-4c7c-d0b5-b8197a81caba"
      },
      "execution_count": null,
      "outputs": [
        {
          "output_type": "stream",
          "name": "stdout",
          "text": [
            "ROUGE-2 Precision: 0.7872340425531915\n",
            "ROUGE-2 Recall: 0.5467980295566502\n",
            "ROUGE-2 F1 Score: 0.6453488372093024\n"
          ]
        }
      ]
    }
  ]
}